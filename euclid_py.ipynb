{
  "nbformat": 4,
  "nbformat_minor": 0,
  "metadata": {
    "colab": {
      "provenance": [],
      "authorship_tag": "ABX9TyNI6aRoWS19Z91sRreynnKJ",
      "include_colab_link": true
    },
    "kernelspec": {
      "name": "python3",
      "display_name": "Python 3"
    },
    "language_info": {
      "name": "python"
    }
  },
  "cells": [
    {
      "cell_type": "markdown",
      "metadata": {
        "id": "view-in-github",
        "colab_type": "text"
      },
      "source": [
        "<a href=\"https://colab.research.google.com/github/ronron88882/Basic-python/blob/test/euclid_py.ipynb\" target=\"_parent\"><img src=\"https://colab.research.google.com/assets/colab-badge.svg\" alt=\"Open In Colab\"/></a>"
      ]
    },
    {
      "cell_type": "code",
      "execution_count": 2,
      "metadata": {
        "id": "Vcd2MU1lfMJ7"
      },
      "outputs": [],
      "source": [
        "def yc(a, b):\n",
        "    while b != 0:\n",
        "        a, b = b, a % b\n",
        "    return a"
      ]
    },
    {
      "cell_type": "code",
      "source": [
        "def sosuu(a, b):\n",
        "    so = yc(a, b)\n",
        "    if so == 1:\n",
        "        return True\n",
        "    else:\n",
        "        return False"
      ],
      "metadata": {
        "id": "8RXW0PGof41f"
      },
      "execution_count": 3,
      "outputs": []
    },
    {
      "cell_type": "code",
      "source": [
        "#1\n",
        "sosuu(10,20)\n",
        "yc(10,20)"
      ],
      "metadata": {
        "id": "whLPohzWgCWL",
        "outputId": "dd8fd50c-8502-4540-82e9-ace0fff7fbfe",
        "colab": {
          "base_uri": "https://localhost:8080/"
        }
      },
      "execution_count": 6,
      "outputs": [
        {
          "output_type": "execute_result",
          "data": {
            "text/plain": [
              "10"
            ]
          },
          "metadata": {},
          "execution_count": 6
        }
      ]
    },
    {
      "cell_type": "code",
      "source": [
        "#2\n",
        "sosuu(14,91)\n",
        "yc(14,91)"
      ],
      "metadata": {
        "id": "fJmE8ZCaQADL",
        "outputId": "8fc2d391-d533-422a-90c1-5b11dfaef602",
        "colab": {
          "base_uri": "https://localhost:8080/"
        }
      },
      "execution_count": 7,
      "outputs": [
        {
          "output_type": "execute_result",
          "data": {
            "text/plain": [
              "7"
            ]
          },
          "metadata": {},
          "execution_count": 7
        }
      ]
    },
    {
      "cell_type": "code",
      "source": [
        "#3\n",
        "sosuu(91,14)\n",
        "yc(91,14)"
      ],
      "metadata": {
        "id": "gus_z6ZXQK5u",
        "outputId": "9ce25570-c863-43ab-cefd-041a713ba597",
        "colab": {
          "base_uri": "https://localhost:8080/"
        }
      },
      "execution_count": 8,
      "outputs": [
        {
          "output_type": "execute_result",
          "data": {
            "text/plain": [
              "7"
            ]
          },
          "metadata": {},
          "execution_count": 8
        }
      ]
    },
    {
      "cell_type": "code",
      "source": [],
      "metadata": {
        "id": "DRMiS1nKQi0t"
      },
      "execution_count": null,
      "outputs": []
    }
  ]
}